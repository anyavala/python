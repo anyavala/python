{
 "cells": [
  {
   "cell_type": "markdown",
   "id": "8115e1ac",
   "metadata": {},
   "source": [
    "# VARIABLES AND DATA TYPES"
   ]
  },
  {
   "cell_type": "markdown",
   "id": "a2946c15",
   "metadata": {},
   "source": [
    "A variable is a name that stores a value. You can use it to reference, reuse and manipulate data in your program.  it is essentially a name that is assigned to a value."
   ]
  },
  {
   "cell_type": "code",
   "execution_count": 1,
   "id": "4f6023e8",
   "metadata": {},
   "outputs": [
    {
     "name": "stdout",
     "output_type": "stream",
     "text": [
      "1278446\n",
      "Homo Sapiens\n"
     ]
    }
   ],
   "source": [
    "# Variable 'id_num' stores the integer value 1278446\n",
    "id_num = 1278446\n",
    "\n",
    "# Variable 'name' stores the string \"Homo Sapiens\"\n",
    "name = \"Homo Sapiens\"  \n",
    "\n",
    "print(id_num)\n",
    "print(name)"
   ]
  },
  {
   "cell_type": "markdown",
   "id": "7d052768",
   "metadata": {},
   "source": [
    "### Rules for Naming Variables"
   ]
  },
  {
   "cell_type": "markdown",
   "id": "17660e11",
   "metadata": {},
   "source": [
    "1) Can contain letters (a–z, A–Z), digits (0–9), and underscores (_)\n",
    "\n",
    "2) Must start with a letter or an underscore, not a digit"
   ]
  },
  {
   "cell_type": "code",
   "execution_count": 2,
   "id": "07dccef0",
   "metadata": {},
   "outputs": [
    {
     "ename": "SyntaxError",
     "evalue": "invalid decimal literal (420879596.py, line 3)",
     "output_type": "error",
     "traceback": [
      "\u001b[0;36m  Cell \u001b[0;32mIn[2], line 3\u001b[0;36m\u001b[0m\n\u001b[0;31m    1st_value = 10\u001b[0m\n\u001b[0m    ^\u001b[0m\n\u001b[0;31mSyntaxError\u001b[0m\u001b[0;31m:\u001b[0m invalid decimal literal\n"
     ]
    }
   ],
   "source": [
    "name = \"adenine\"      # valid\n",
    "_temp = 25          #valid\n",
    "1st_value = 10     #invalid"
   ]
  },
  {
   "cell_type": "markdown",
   "id": "5bde2299",
   "metadata": {},
   "source": [
    "3) Variable names are case-sensitive "
   ]
  },
  {
   "cell_type": "code",
   "execution_count": 3,
   "id": "4c2ae20e",
   "metadata": {},
   "outputs": [],
   "source": [
    "name = \"Alice\"   #lowercase\n",
    "Name = \"Bob\"     #uppercase"
   ]
  },
  {
   "cell_type": "code",
   "execution_count": 4,
   "id": "82c48d46",
   "metadata": {},
   "outputs": [],
   "source": [
    "myGene='BRCA1'\n",
    "mygene='BRCA2'"
   ]
  },
  {
   "cell_type": "markdown",
   "id": "d044e374",
   "metadata": {},
   "source": [
    "4) No special characters allowed (@, $, %, etc.)"
   ]
  },
  {
   "cell_type": "code",
   "execution_count": 5,
   "id": "73b7e5ed",
   "metadata": {},
   "outputs": [
    {
     "ename": "SyntaxError",
     "evalue": "invalid syntax (4212375953.py, line 1)",
     "output_type": "error",
     "traceback": [
      "\u001b[0;36m  Cell \u001b[0;32mIn[5], line 1\u001b[0;36m\u001b[0m\n\u001b[0;31m    user$name = \"Ozlem\"  # invalid\u001b[0m\n\u001b[0m        ^\u001b[0m\n\u001b[0;31mSyntaxError\u001b[0m\u001b[0;31m:\u001b[0m invalid syntax\n"
     ]
    }
   ],
   "source": [
    "user$name = \"Ozlem\"  # invalid"
   ]
  },
  {
   "cell_type": "markdown",
   "id": "4c33a43b",
   "metadata": {},
   "source": [
    "5) Cannot be a Python keyword"
   ]
  },
  {
   "cell_type": "code",
   "execution_count": null,
   "id": "f9b61750",
   "metadata": {},
   "outputs": [],
   "source": [
    "if = 5       # invalid, 'if' is a keyword"
   ]
  },
  {
   "cell_type": "markdown",
   "id": "dd7cbf6f",
   "metadata": {},
   "source": [
    "### Dynamic Typing"
   ]
  },
  {
   "cell_type": "markdown",
   "id": "a2ce3180",
   "metadata": {},
   "source": [
    "Python variables are dynamic, meaning the same variable can have different types of values during execution."
   ]
  },
  {
   "cell_type": "code",
   "execution_count": 6,
   "id": "57c38eb1",
   "metadata": {},
   "outputs": [],
   "source": [
    "x = 12345\n",
    "x = \"Hello\""
   ]
  },
  {
   "cell_type": "markdown",
   "id": "7fec193b",
   "metadata": {},
   "source": [
    "### Multiple Assignments"
   ]
  },
  {
   "cell_type": "markdown",
   "id": "dd4c0f61",
   "metadata": {},
   "source": [
    "Python allows multiple variables to be assigned values in a single line."
   ]
  },
  {
   "cell_type": "code",
   "execution_count": 7,
   "id": "cb41a8aa",
   "metadata": {},
   "outputs": [
    {
     "name": "stdout",
     "output_type": "stream",
     "text": [
      "5 5 5\n"
     ]
    }
   ],
   "source": [
    "a = b = c = 5\n",
    "print(a, b, c)"
   ]
  },
  {
   "cell_type": "markdown",
   "id": "fd10a004",
   "metadata": {},
   "source": [
    "## DATA TYPES"
   ]
  },
  {
   "cell_type": "markdown",
   "id": "f567a673",
   "metadata": {},
   "source": [
    "### 1)String"
   ]
  },
  {
   "cell_type": "markdown",
   "id": "ad32f2ec",
   "metadata": {},
   "source": [
    "Text data, written in quotes (' ' or \" \")"
   ]
  },
  {
   "cell_type": "code",
   "execution_count": 10,
   "id": "840945c1",
   "metadata": {},
   "outputs": [],
   "source": [
    "greeting = \"Hello\""
   ]
  },
  {
   "cell_type": "code",
   "execution_count": 11,
   "id": "0f102e30",
   "metadata": {},
   "outputs": [
    {
     "data": {
      "text/plain": [
       "str"
      ]
     },
     "execution_count": 11,
     "metadata": {},
     "output_type": "execute_result"
    }
   ],
   "source": [
    "type(greeting) #type method shows the data type of variable"
   ]
  },
  {
   "cell_type": "code",
   "execution_count": 12,
   "id": "855bc642",
   "metadata": {},
   "outputs": [
    {
     "data": {
      "text/plain": [
       "str"
      ]
     },
     "execution_count": 12,
     "metadata": {},
     "output_type": "execute_result"
    }
   ],
   "source": [
    "uniprot_id='O95905' #when letters and numbers are combined, Python usually treats the result as a string\n",
    "type(uniprot_id)"
   ]
  },
  {
   "cell_type": "markdown",
   "id": "091657be",
   "metadata": {},
   "source": [
    "the main feature of strings is  immutable property. Once a string is created, it cannot be changed."
   ]
  },
  {
   "cell_type": "code",
   "execution_count": 13,
   "id": "74e750d4",
   "metadata": {},
   "outputs": [
    {
     "ename": "TypeError",
     "evalue": "'str' object does not support item assignment",
     "output_type": "error",
     "traceback": [
      "\u001b[0;31m---------------------------------------------------------------------------\u001b[0m",
      "\u001b[0;31mTypeError\u001b[0m                                 Traceback (most recent call last)",
      "Cell \u001b[0;32mIn[13], line 2\u001b[0m\n\u001b[1;32m      1\u001b[0m s \u001b[38;5;241m=\u001b[39m \u001b[38;5;124m\"\u001b[39m\u001b[38;5;124mhello\u001b[39m\u001b[38;5;124m\"\u001b[39m\n\u001b[0;32m----> 2\u001b[0m s[\u001b[38;5;241m0\u001b[39m] \u001b[38;5;241m=\u001b[39m \u001b[38;5;124m\"\u001b[39m\u001b[38;5;124mH\u001b[39m\u001b[38;5;124m\"\u001b[39m\n",
      "\u001b[0;31mTypeError\u001b[0m: 'str' object does not support item assignment"
     ]
    }
   ],
   "source": [
    "s = \"hello\"\n",
    "s[0] = \"H\"  #you can not change the character in string"
   ]
  },
  {
   "cell_type": "markdown",
   "id": "0b54ff47",
   "metadata": {},
   "source": [
    "Strings are indexed — you can access characters by position."
   ]
  },
  {
   "cell_type": "code",
   "execution_count": 14,
   "id": "d177b311",
   "metadata": {},
   "outputs": [
    {
     "name": "stdout",
     "output_type": "stream",
     "text": [
      "P\n",
      "n\n"
     ]
    }
   ],
   "source": [
    "s = \"Python\"\n",
    "print(s[0])   \n",
    "print(s[-1]) "
   ]
  },
  {
   "cell_type": "code",
   "execution_count": 16,
   "id": "3660c954",
   "metadata": {},
   "outputs": [
    {
     "name": "stdout",
     "output_type": "stream",
     "text": [
      "Hello World\n"
     ]
    }
   ],
   "source": [
    "#you can concatenate two strings assigning to a new variable\n",
    "a = \"Hello\"\n",
    "b = \"World\"\n",
    "c = a + \" \" + b \n",
    "print(c)"
   ]
  },
  {
   "cell_type": "code",
   "execution_count": 17,
   "id": "e873c15d",
   "metadata": {},
   "outputs": [
    {
     "name": "stdout",
     "output_type": "stream",
     "text": [
      "hahaha\n"
     ]
    }
   ],
   "source": [
    "#you can repeat the string\n",
    "s = \"ha\"\n",
    "print(s * 3)  "
   ]
  },
  {
   "cell_type": "code",
   "execution_count": 18,
   "id": "994c003c",
   "metadata": {},
   "outputs": [
    {
     "name": "stdout",
     "output_type": "stream",
     "text": [
      "yth\n",
      "Pyt\n",
      "Pto\n"
     ]
    }
   ],
   "source": [
    "#slicing\n",
    "s = \"Python\"\n",
    "print(s[1:4])   \n",
    "print(s[:3])    \n",
    "print(s[::2]) "
   ]
  },
  {
   "cell_type": "code",
   "execution_count": 19,
   "id": "8b393e36",
   "metadata": {},
   "outputs": [
    {
     "name": "stdout",
     "output_type": "stream",
     "text": [
      "My name is Alice and I'm 25 years old.\n"
     ]
    }
   ],
   "source": [
    "#String Formatting\n",
    "name = \"Alice\"\n",
    "age = 25\n",
    "print(f\"My name is {name} and I'm {age} years old.\")  #inside the curly brackets, variables are placed."
   ]
  },
  {
   "cell_type": "markdown",
   "id": "3ee400fb",
   "metadata": {},
   "source": [
    "### 2)Integer (int)"
   ]
  },
  {
   "cell_type": "markdown",
   "id": "984f22d1",
   "metadata": {},
   "source": [
    "Whole numbers (no decimals)"
   ]
  },
  {
   "cell_type": "code",
   "execution_count": 20,
   "id": "d8bf303a",
   "metadata": {},
   "outputs": [
    {
     "name": "stdout",
     "output_type": "stream",
     "text": [
      "25 0\n"
     ]
    }
   ],
   "source": [
    "age=25\n",
    "count=0\n",
    "print(age, count)"
   ]
  },
  {
   "cell_type": "code",
   "execution_count": 28,
   "id": "41e064ed",
   "metadata": {},
   "outputs": [
    {
     "data": {
      "text/plain": [
       "int"
      ]
     },
     "execution_count": 28,
     "metadata": {},
     "output_type": "execute_result"
    }
   ],
   "source": [
    "type(age)"
   ]
  },
  {
   "cell_type": "markdown",
   "id": "02667db5",
   "metadata": {},
   "source": [
    "### 3) Float (float)"
   ]
  },
  {
   "cell_type": "markdown",
   "id": "1c7ef2ff",
   "metadata": {},
   "source": [
    "Decimal numbers"
   ]
  },
  {
   "cell_type": "code",
   "execution_count": 22,
   "id": "19adf02f",
   "metadata": {},
   "outputs": [
    {
     "name": "stdout",
     "output_type": "stream",
     "text": [
      "19.99\n"
     ]
    }
   ],
   "source": [
    "price = 19.99\n",
    "print(price)"
   ]
  },
  {
   "cell_type": "code",
   "execution_count": 23,
   "id": "8d34acec",
   "metadata": {},
   "outputs": [
    {
     "name": "stdout",
     "output_type": "stream",
     "text": [
      "0.05\n"
     ]
    }
   ],
   "source": [
    "concentration=0.05\n",
    "print(concentration)"
   ]
  },
  {
   "cell_type": "code",
   "execution_count": 29,
   "id": "52cbf237",
   "metadata": {},
   "outputs": [
    {
     "data": {
      "text/plain": [
       "float"
      ]
     },
     "execution_count": 29,
     "metadata": {},
     "output_type": "execute_result"
    }
   ],
   "source": [
    "type(price)"
   ]
  },
  {
   "cell_type": "markdown",
   "id": "cb2538b8",
   "metadata": {},
   "source": [
    "### 4)Boolean (bool)"
   ]
  },
  {
   "cell_type": "markdown",
   "id": "dd236a80",
   "metadata": {},
   "source": [
    "True or False values"
   ]
  },
  {
   "cell_type": "code",
   "execution_count": 30,
   "id": "9a0901d1",
   "metadata": {},
   "outputs": [
    {
     "data": {
      "text/plain": [
       "bool"
      ]
     },
     "execution_count": 30,
     "metadata": {},
     "output_type": "execute_result"
    }
   ],
   "source": [
    "type(True)"
   ]
  },
  {
   "cell_type": "markdown",
   "id": "1118dbd5",
   "metadata": {},
   "source": [
    "### 5)List (list)"
   ]
  },
  {
   "cell_type": "markdown",
   "id": "3f893f56",
   "metadata": {},
   "source": [
    "Ordered, changeable collection of items (can mix types)"
   ]
  },
  {
   "cell_type": "code",
   "execution_count": 24,
   "id": "e1e27466",
   "metadata": {},
   "outputs": [
    {
     "name": "stdout",
     "output_type": "stream",
     "text": [
      "['red', 'green', 'blue']\n"
     ]
    }
   ],
   "source": [
    "colors = [\"red\", \"green\", \"blue\"]\n",
    "print(colors)"
   ]
  },
  {
   "cell_type": "code",
   "execution_count": 31,
   "id": "45193491",
   "metadata": {},
   "outputs": [
    {
     "data": {
      "text/plain": [
       "list"
      ]
     },
     "execution_count": 31,
     "metadata": {},
     "output_type": "execute_result"
    }
   ],
   "source": [
    "type(colors)"
   ]
  },
  {
   "cell_type": "markdown",
   "id": "42755479",
   "metadata": {},
   "source": [
    "### 6)Tuple (tuple)"
   ]
  },
  {
   "cell_type": "markdown",
   "id": "dbf8f055",
   "metadata": {},
   "source": [
    "Ordered, unchangeable collection of items"
   ]
  },
  {
   "cell_type": "code",
   "execution_count": 25,
   "id": "7721fadc",
   "metadata": {},
   "outputs": [
    {
     "name": "stdout",
     "output_type": "stream",
     "text": [
      "(10.0, 20.5, 10, 5, 6)\n"
     ]
    }
   ],
   "source": [
    "coordinates = (10.0, 20.5, 10,5,6)\n",
    "print(coordinates)"
   ]
  },
  {
   "cell_type": "code",
   "execution_count": 32,
   "id": "d0f6e8f6",
   "metadata": {},
   "outputs": [
    {
     "data": {
      "text/plain": [
       "tuple"
      ]
     },
     "execution_count": 32,
     "metadata": {},
     "output_type": "execute_result"
    }
   ],
   "source": [
    "type(coordinates)"
   ]
  },
  {
   "cell_type": "markdown",
   "id": "57a04ae2",
   "metadata": {},
   "source": [
    "### 7)Dictionary (dict)"
   ]
  },
  {
   "cell_type": "markdown",
   "id": "05ab5120",
   "metadata": {},
   "source": [
    "Key-value pairs"
   ]
  },
  {
   "cell_type": "code",
   "execution_count": 26,
   "id": "4c98bfb7",
   "metadata": {},
   "outputs": [
    {
     "name": "stdout",
     "output_type": "stream",
     "text": [
      "{'name': 'Alice', 'age': 25}\n"
     ]
    }
   ],
   "source": [
    "person = {\"name\": \"Alice\", \"age\": 25}\n",
    "print(person)"
   ]
  },
  {
   "cell_type": "code",
   "execution_count": 33,
   "id": "897a376c",
   "metadata": {},
   "outputs": [
    {
     "data": {
      "text/plain": [
       "dict"
      ]
     },
     "execution_count": 33,
     "metadata": {},
     "output_type": "execute_result"
    }
   ],
   "source": [
    "type(person)"
   ]
  },
  {
   "cell_type": "markdown",
   "id": "432c7762",
   "metadata": {},
   "source": [
    "### 8) Set (set)"
   ]
  },
  {
   "cell_type": "markdown",
   "id": "aafaca66",
   "metadata": {},
   "source": [
    "Unordered collection of unique items"
   ]
  },
  {
   "cell_type": "code",
   "execution_count": 27,
   "id": "8cf6165f",
   "metadata": {},
   "outputs": [
    {
     "name": "stdout",
     "output_type": "stream",
     "text": [
      "{1, 2, 3}\n"
     ]
    }
   ],
   "source": [
    "unique_numbers = {1, 2, 3}\n",
    "print(unique_numbers)"
   ]
  },
  {
   "cell_type": "code",
   "execution_count": 34,
   "id": "78d414d3",
   "metadata": {},
   "outputs": [
    {
     "data": {
      "text/plain": [
       "set"
      ]
     },
     "execution_count": 34,
     "metadata": {},
     "output_type": "execute_result"
    }
   ],
   "source": [
    "type(unique_numbers)"
   ]
  }
 ],
 "metadata": {
  "kernelspec": {
   "display_name": "Python 3 (ipykernel)",
   "language": "python",
   "name": "python3"
  },
  "language_info": {
   "codemirror_mode": {
    "name": "ipython",
    "version": 3
   },
   "file_extension": ".py",
   "mimetype": "text/x-python",
   "name": "python",
   "nbconvert_exporter": "python",
   "pygments_lexer": "ipython3",
   "version": "3.11.5"
  }
 },
 "nbformat": 4,
 "nbformat_minor": 5
}
