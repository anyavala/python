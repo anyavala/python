{
 "cells": [
  {
   "cell_type": "markdown",
   "id": "f7849c36",
   "metadata": {},
   "source": [
    "# LIST DATA TYPE IN PYTHON"
   ]
  },
  {
   "cell_type": "markdown",
   "id": "0dba0445",
   "metadata": {},
   "source": [
    "Let's dive into how to work with the list data type. We can store all types of items  in a list. List can contain duplicate items and it is mutable, that means we can modify, replace or delete the items. \n",
    "List are ordered data types. It maintain the order of elements based on how they are added.\n",
    "Accessing items in List can be done directly using their position (index)."
   ]
  },
  {
   "cell_type": "code",
   "execution_count": 1,
   "id": "fa239250",
   "metadata": {},
   "outputs": [
    {
     "name": "stdout",
     "output_type": "stream",
     "text": [
      "[1, 2, 3, 4, 5]\n"
     ]
    }
   ],
   "source": [
    "integers=[1,2,3,4,5]\n",
    "print(integers)"
   ]
  },
  {
   "cell_type": "code",
   "execution_count": 2,
   "id": "ed54dcf2",
   "metadata": {},
   "outputs": [
    {
     "name": "stdout",
     "output_type": "stream",
     "text": [
      "['blah', 'bluh', 'e']\n"
     ]
    }
   ],
   "source": [
    "stringList=['blah', 'bluh', 'e']\n",
    "print(stringList)"
   ]
  },
  {
   "cell_type": "code",
   "execution_count": 3,
   "id": "c4fd3242",
   "metadata": {},
   "outputs": [
    {
     "name": "stdout",
     "output_type": "stream",
     "text": [
      "[1, 1.5, 'python']\n"
     ]
    }
   ],
   "source": [
    "mixlist=[1,1.5,'python']\n",
    "print(mixlist)"
   ]
  },
  {
   "cell_type": "code",
   "execution_count": 4,
   "id": "756e17ef",
   "metadata": {},
   "outputs": [
    {
     "name": "stdout",
     "output_type": "stream",
     "text": [
      "[1, 4, 5, [8, 9, 10], ['aaa', 'bbb']]\n"
     ]
    }
   ],
   "source": [
    "multiple_list=[1,4,5,[8,9,10], ['aaa', 'bbb']]\n",
    "print(multiple_list)"
   ]
  },
  {
   "cell_type": "code",
   "execution_count": 5,
   "id": "1bd15037",
   "metadata": {},
   "outputs": [
    {
     "name": "stdout",
     "output_type": "stream",
     "text": [
      "[]\n"
     ]
    }
   ],
   "source": [
    "empty=[]\n",
    "print(empty)"
   ]
  },
  {
   "cell_type": "markdown",
   "id": "d9fa7477",
   "metadata": {},
   "source": [
    "Accessing/ Traversing the list. To be able to access an item within the list, the index always start from 0. So, first item in the list at the position 0. "
   ]
  },
  {
   "cell_type": "code",
   "execution_count": 6,
   "id": "8f3c6ef9",
   "metadata": {},
   "outputs": [
    {
     "data": {
      "text/plain": [
       "1"
      ]
     },
     "execution_count": 6,
     "metadata": {},
     "output_type": "execute_result"
    }
   ],
   "source": [
    "mixlist[0]"
   ]
  },
  {
   "cell_type": "code",
   "execution_count": 7,
   "id": "ec534df1",
   "metadata": {},
   "outputs": [
    {
     "data": {
      "text/plain": [
       "1"
      ]
     },
     "execution_count": 7,
     "metadata": {},
     "output_type": "execute_result"
    }
   ],
   "source": [
    "multiple_list[0]"
   ]
  },
  {
   "cell_type": "code",
   "execution_count": 8,
   "id": "08b43798",
   "metadata": {},
   "outputs": [
    {
     "data": {
      "text/plain": [
       "[8, 9, 10]"
      ]
     },
     "execution_count": 8,
     "metadata": {},
     "output_type": "execute_result"
    }
   ],
   "source": [
    "multiple_list[3]"
   ]
  },
  {
   "cell_type": "markdown",
   "id": "30fb4b3a",
   "metadata": {},
   "source": [
    "with 'in' operator you can check whether the item is involved in the list. "
   ]
  },
  {
   "cell_type": "code",
   "execution_count": 9,
   "id": "f847b94e",
   "metadata": {},
   "outputs": [
    {
     "name": "stdout",
     "output_type": "stream",
     "text": [
      "True\n"
     ]
    }
   ],
   "source": [
    "print('bluh' in stringList)"
   ]
  },
  {
   "cell_type": "markdown",
   "id": "eb07a41c",
   "metadata": {},
   "source": [
    "while the index starts from 0 at the start of the list, from end it to the first item it starts with -1 and continues -2,-3 ... so on."
   ]
  },
  {
   "cell_type": "code",
   "execution_count": 10,
   "id": "f863583b",
   "metadata": {},
   "outputs": [
    {
     "name": "stdout",
     "output_type": "stream",
     "text": [
      "['aaa', 'bbb']\n"
     ]
    }
   ],
   "source": [
    "print(multiple_list[-1])"
   ]
  },
  {
   "cell_type": "code",
   "execution_count": 11,
   "id": "bc9d6cfa",
   "metadata": {},
   "outputs": [
    {
     "name": "stdout",
     "output_type": "stream",
     "text": [
      "4\n"
     ]
    }
   ],
   "source": [
    "print(multiple_list[-4])"
   ]
  },
  {
   "cell_type": "markdown",
   "id": "8108646b",
   "metadata": {},
   "source": [
    "### Slicing"
   ]
  },
  {
   "cell_type": "code",
   "execution_count": 12,
   "id": "3b7e8513",
   "metadata": {},
   "outputs": [],
   "source": [
    "letters=['a', 'm', 'v', 'c', 'g','b']\n",
    "#indexes always starts from 0\n",
    "#letters[0] gives 'a' letter. "
   ]
  },
  {
   "cell_type": "code",
   "execution_count": 13,
   "id": "211c37af",
   "metadata": {},
   "outputs": [
    {
     "data": {
      "text/plain": [
       "['m', 'v', 'c']"
      ]
     },
     "execution_count": 13,
     "metadata": {},
     "output_type": "execute_result"
    }
   ],
   "source": [
    "#list[start:end] it slices until the end and the end index is not included\n",
    "letters[1:4] #from 1 to 4, 4th index is not in the sliced list"
   ]
  },
  {
   "cell_type": "code",
   "execution_count": 14,
   "id": "86b29aca",
   "metadata": {},
   "outputs": [
    {
     "data": {
      "text/plain": [
       "['a', 'm', 'v', 'c', 'g']"
      ]
     },
     "execution_count": 14,
     "metadata": {},
     "output_type": "execute_result"
    }
   ],
   "source": [
    "letters[:-1] #from start to until -1, here the -1 is 'b' "
   ]
  },
  {
   "cell_type": "markdown",
   "id": "c5d3b423",
   "metadata": {},
   "source": [
    "### Adding Elements into List"
   ]
  },
  {
   "cell_type": "code",
   "execution_count": 15,
   "id": "1ef14b79",
   "metadata": {},
   "outputs": [
    {
     "name": "stdout",
     "output_type": "stream",
     "text": [
      "After append(10): [10]\n",
      "After insert(0, 4): [4, 10]\n",
      "After extend([15, 20, 30]): [4, 10, 15, 20, 30]\n"
     ]
    }
   ],
   "source": [
    "# Initialize an empty list\n",
    "elements = []\n",
    "\n",
    "# it adds 10 to end of list\n",
    "elements.append(10)  \n",
    "print(\"After append(10):\", elements)  \n",
    "\n",
    "# The insert() method inserts the specified value at the specified position.  \n",
    "elements.insert(0, 4)\n",
    "print(\"After insert(0, 4):\", elements) \n",
    "\n",
    "# Adding multiple elements  [15, 20, 30] is accomplished using extend()  method\n",
    "elements.extend([15, 20, 30])  \n",
    "print(\"After extend([15, 20, 30]):\", elements)"
   ]
  },
  {
   "cell_type": "markdown",
   "id": "7c37a107",
   "metadata": {},
   "source": [
    "### Updating Elements into List"
   ]
  },
  {
   "cell_type": "code",
   "execution_count": 16,
   "id": "2e59aa61",
   "metadata": {},
   "outputs": [
    {
     "name": "stdout",
     "output_type": "stream",
     "text": [
      "[10, 25, 30, 40, 50]\n"
     ]
    }
   ],
   "source": [
    "#We can change the value of an element by accessing it using its index.\n",
    "nums = [10, 20, 30, 40, 50]\n",
    "\n",
    "# replace the value with new one. the index of replaced one is typed in the brackects. \n",
    "nums[1] = 25 \n",
    "\n",
    "print(nums)"
   ]
  },
  {
   "cell_type": "markdown",
   "id": "ae98cebd",
   "metadata": {},
   "source": [
    "### Removing Elements from List"
   ]
  },
  {
   "cell_type": "code",
   "execution_count": 18,
   "id": "c45b3fac",
   "metadata": {},
   "outputs": [
    {
     "name": "stdout",
     "output_type": "stream",
     "text": [
      "After remove(30): [10, 20, 40, 50]\n",
      "Popped element: 20\n",
      "After pop(1): [10, 40, 50]\n",
      "After del a[0]: [40, 50]\n"
     ]
    }
   ],
   "source": [
    "nums = [10, 20, 30, 40, 50]\n",
    "\n",
    "# Removes the first occurrence of 30\n",
    "nums.remove(30)  \n",
    "print(\"After remove(30):\", nums)\n",
    "\n",
    "# Removes the element at index 1 (20)\n",
    "popped_val = nums.pop(1)  \n",
    "print(\"Popped element:\", popped_val)\n",
    "print(\"After pop(1):\", nums) \n",
    "\n",
    "# Deletes the first element (10)\n",
    "del nums[0]  \n",
    "print(\"After del a[0]:\", nums)"
   ]
  },
  {
   "cell_type": "markdown",
   "id": "0ae34431",
   "metadata": {},
   "source": [
    "### Nested Lists in Python"
   ]
  },
  {
   "cell_type": "markdown",
   "id": "6e34237c",
   "metadata": {},
   "source": [
    "A nested list is a list within another list, which is useful for representing matrices or tables. "
   ]
  },
  {
   "cell_type": "code",
   "execution_count": 19,
   "id": "995cadaf",
   "metadata": {},
   "outputs": [
    {
     "name": "stdout",
     "output_type": "stream",
     "text": [
      "6\n"
     ]
    }
   ],
   "source": [
    "matrix = [\n",
    "    [1, 2, 3],\n",
    "    [4, 5, 6],\n",
    "    [7, 8, 9]\n",
    "]\n",
    "\n",
    "# Access element at row 2, column 3\n",
    "print(matrix[1][2])"
   ]
  },
  {
   "cell_type": "code",
   "execution_count": null,
   "id": "ebd70598",
   "metadata": {},
   "outputs": [],
   "source": []
  }
 ],
 "metadata": {
  "kernelspec": {
   "display_name": "Python 3 (ipykernel)",
   "language": "python",
   "name": "python3"
  },
  "language_info": {
   "codemirror_mode": {
    "name": "ipython",
    "version": 3
   },
   "file_extension": ".py",
   "mimetype": "text/x-python",
   "name": "python",
   "nbconvert_exporter": "python",
   "pygments_lexer": "ipython3",
   "version": "3.11.5"
  }
 },
 "nbformat": 4,
 "nbformat_minor": 5
}
